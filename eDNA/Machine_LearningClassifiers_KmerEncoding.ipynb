{
  "cells": [
    {
      "cell_type": "markdown",
      "metadata": {
        "id": "view-in-github",
        "colab_type": "text"
      },
      "source": [
        "<a href=\"https://colab.research.google.com/github/MarriaK/2023-CMBCSCSTA522-BPS542-Code/blob/main/eDNA/Machine_LearningClassifiers_KmerEncoding.ipynb\" target=\"_parent\"><img src=\"https://colab.research.google.com/assets/colab-badge.svg\" alt=\"Open In Colab\"/></a>"
      ]
    },
    {
      "cell_type": "code",
      "execution_count": 1,
      "metadata": {
        "colab": {
          "base_uri": "https://localhost:8080/"
        },
        "id": "xE4TNqB85m4T",
        "outputId": "3b72af76-db6b-4b9d-db41-3f24e72937e0"
      },
      "outputs": [
        {
          "output_type": "stream",
          "name": "stdout",
          "text": [
            "Mounted at /content/drive\n"
          ]
        }
      ],
      "source": [
        "from google.colab import drive\n",
        "drive.mount('/content/drive')"
      ]
    },
    {
      "cell_type": "code",
      "execution_count": 2,
      "metadata": {
        "id": "cDit62dh6AN9"
      },
      "outputs": [],
      "source": [
        "import pandas as pd\n",
        "\n",
        "# read csv file\n",
        "data = pd.read_csv('/content/drive/MyDrive/Bioinformatics Group Project /Code/Data/data2.csv')"
      ]
    },
    {
      "cell_type": "code",
      "source": [
        "data"
      ],
      "metadata": {
        "colab": {
          "base_uri": "https://localhost:8080/",
          "height": 424
        },
        "id": "A--O1oc_9dkO",
        "outputId": "861b2bd5-edcb-4624-ba30-102c15639d32"
      },
      "execution_count": 3,
      "outputs": [
        {
          "output_type": "execute_result",
          "data": {
            "text/plain": [
              "                                              sequence  type\n",
              "0    CCTTTAGCTGGAAACCTAGCCCATGCTGGAGCATCCGTCGACTTAA...     0\n",
              "1    CCTTTAGCTGGTAACCTAGCCCATGCTGGAGCATCCGTTGACTTAA...     0\n",
              "2    CCTTTAGCTGGAAACCTAGCCCATGCTGGAGCATCCGTTGACTTAA...     0\n",
              "3    CCTTAGCTGGAAACCTAGCCCATGCTGGAGCATCCGTTGACTTAAC...     0\n",
              "4    CCTTTAGCTGGAAACCTAGCCCACGCTGGAGCATCCGTTGACTTAA...     0\n",
              "..                                                 ...   ...\n",
              "189  TTTAGCCGGAAACCTCGCTCATGCTGGGGCATCTGTTGATCTCACT...     4\n",
              "190  CCTTTAGCCGGAAACCTCGCTCATGCTGGGGCATCTGTTGATCTCA...     4\n",
              "191  TTTAGCCGGAAACCTCGCTCATGCTGGGGCATCTGTTGATCTCACT...     4\n",
              "192  TTTAGCCGGAAACCTCGCTCATGCTGGGGCATCTGTTGATCTCACT...     4\n",
              "193  TTTAGCCGGAAACCTCGCTCATGCTGGGGCATCTGTTGATCTCACT...     4\n",
              "\n",
              "[194 rows x 2 columns]"
            ],
            "text/html": [
              "\n",
              "  <div id=\"df-d7cc1546-37d8-48f7-86ee-53f9d1c923b8\">\n",
              "    <div class=\"colab-df-container\">\n",
              "      <div>\n",
              "<style scoped>\n",
              "    .dataframe tbody tr th:only-of-type {\n",
              "        vertical-align: middle;\n",
              "    }\n",
              "\n",
              "    .dataframe tbody tr th {\n",
              "        vertical-align: top;\n",
              "    }\n",
              "\n",
              "    .dataframe thead th {\n",
              "        text-align: right;\n",
              "    }\n",
              "</style>\n",
              "<table border=\"1\" class=\"dataframe\">\n",
              "  <thead>\n",
              "    <tr style=\"text-align: right;\">\n",
              "      <th></th>\n",
              "      <th>sequence</th>\n",
              "      <th>type</th>\n",
              "    </tr>\n",
              "  </thead>\n",
              "  <tbody>\n",
              "    <tr>\n",
              "      <th>0</th>\n",
              "      <td>CCTTTAGCTGGAAACCTAGCCCATGCTGGAGCATCCGTCGACTTAA...</td>\n",
              "      <td>0</td>\n",
              "    </tr>\n",
              "    <tr>\n",
              "      <th>1</th>\n",
              "      <td>CCTTTAGCTGGTAACCTAGCCCATGCTGGAGCATCCGTTGACTTAA...</td>\n",
              "      <td>0</td>\n",
              "    </tr>\n",
              "    <tr>\n",
              "      <th>2</th>\n",
              "      <td>CCTTTAGCTGGAAACCTAGCCCATGCTGGAGCATCCGTTGACTTAA...</td>\n",
              "      <td>0</td>\n",
              "    </tr>\n",
              "    <tr>\n",
              "      <th>3</th>\n",
              "      <td>CCTTAGCTGGAAACCTAGCCCATGCTGGAGCATCCGTTGACTTAAC...</td>\n",
              "      <td>0</td>\n",
              "    </tr>\n",
              "    <tr>\n",
              "      <th>4</th>\n",
              "      <td>CCTTTAGCTGGAAACCTAGCCCACGCTGGAGCATCCGTTGACTTAA...</td>\n",
              "      <td>0</td>\n",
              "    </tr>\n",
              "    <tr>\n",
              "      <th>...</th>\n",
              "      <td>...</td>\n",
              "      <td>...</td>\n",
              "    </tr>\n",
              "    <tr>\n",
              "      <th>189</th>\n",
              "      <td>TTTAGCCGGAAACCTCGCTCATGCTGGGGCATCTGTTGATCTCACT...</td>\n",
              "      <td>4</td>\n",
              "    </tr>\n",
              "    <tr>\n",
              "      <th>190</th>\n",
              "      <td>CCTTTAGCCGGAAACCTCGCTCATGCTGGGGCATCTGTTGATCTCA...</td>\n",
              "      <td>4</td>\n",
              "    </tr>\n",
              "    <tr>\n",
              "      <th>191</th>\n",
              "      <td>TTTAGCCGGAAACCTCGCTCATGCTGGGGCATCTGTTGATCTCACT...</td>\n",
              "      <td>4</td>\n",
              "    </tr>\n",
              "    <tr>\n",
              "      <th>192</th>\n",
              "      <td>TTTAGCCGGAAACCTCGCTCATGCTGGGGCATCTGTTGATCTCACT...</td>\n",
              "      <td>4</td>\n",
              "    </tr>\n",
              "    <tr>\n",
              "      <th>193</th>\n",
              "      <td>TTTAGCCGGAAACCTCGCTCATGCTGGGGCATCTGTTGATCTCACT...</td>\n",
              "      <td>4</td>\n",
              "    </tr>\n",
              "  </tbody>\n",
              "</table>\n",
              "<p>194 rows × 2 columns</p>\n",
              "</div>\n",
              "      <button class=\"colab-df-convert\" onclick=\"convertToInteractive('df-d7cc1546-37d8-48f7-86ee-53f9d1c923b8')\"\n",
              "              title=\"Convert this dataframe to an interactive table.\"\n",
              "              style=\"display:none;\">\n",
              "        \n",
              "  <svg xmlns=\"http://www.w3.org/2000/svg\" height=\"24px\"viewBox=\"0 0 24 24\"\n",
              "       width=\"24px\">\n",
              "    <path d=\"M0 0h24v24H0V0z\" fill=\"none\"/>\n",
              "    <path d=\"M18.56 5.44l.94 2.06.94-2.06 2.06-.94-2.06-.94-.94-2.06-.94 2.06-2.06.94zm-11 1L8.5 8.5l.94-2.06 2.06-.94-2.06-.94L8.5 2.5l-.94 2.06-2.06.94zm10 10l.94 2.06.94-2.06 2.06-.94-2.06-.94-.94-2.06-.94 2.06-2.06.94z\"/><path d=\"M17.41 7.96l-1.37-1.37c-.4-.4-.92-.59-1.43-.59-.52 0-1.04.2-1.43.59L10.3 9.45l-7.72 7.72c-.78.78-.78 2.05 0 2.83L4 21.41c.39.39.9.59 1.41.59.51 0 1.02-.2 1.41-.59l7.78-7.78 2.81-2.81c.8-.78.8-2.07 0-2.86zM5.41 20L4 18.59l7.72-7.72 1.47 1.35L5.41 20z\"/>\n",
              "  </svg>\n",
              "      </button>\n",
              "      \n",
              "  <style>\n",
              "    .colab-df-container {\n",
              "      display:flex;\n",
              "      flex-wrap:wrap;\n",
              "      gap: 12px;\n",
              "    }\n",
              "\n",
              "    .colab-df-convert {\n",
              "      background-color: #E8F0FE;\n",
              "      border: none;\n",
              "      border-radius: 50%;\n",
              "      cursor: pointer;\n",
              "      display: none;\n",
              "      fill: #1967D2;\n",
              "      height: 32px;\n",
              "      padding: 0 0 0 0;\n",
              "      width: 32px;\n",
              "    }\n",
              "\n",
              "    .colab-df-convert:hover {\n",
              "      background-color: #E2EBFA;\n",
              "      box-shadow: 0px 1px 2px rgba(60, 64, 67, 0.3), 0px 1px 3px 1px rgba(60, 64, 67, 0.15);\n",
              "      fill: #174EA6;\n",
              "    }\n",
              "\n",
              "    [theme=dark] .colab-df-convert {\n",
              "      background-color: #3B4455;\n",
              "      fill: #D2E3FC;\n",
              "    }\n",
              "\n",
              "    [theme=dark] .colab-df-convert:hover {\n",
              "      background-color: #434B5C;\n",
              "      box-shadow: 0px 1px 3px 1px rgba(0, 0, 0, 0.15);\n",
              "      filter: drop-shadow(0px 1px 2px rgba(0, 0, 0, 0.3));\n",
              "      fill: #FFFFFF;\n",
              "    }\n",
              "  </style>\n",
              "\n",
              "      <script>\n",
              "        const buttonEl =\n",
              "          document.querySelector('#df-d7cc1546-37d8-48f7-86ee-53f9d1c923b8 button.colab-df-convert');\n",
              "        buttonEl.style.display =\n",
              "          google.colab.kernel.accessAllowed ? 'block' : 'none';\n",
              "\n",
              "        async function convertToInteractive(key) {\n",
              "          const element = document.querySelector('#df-d7cc1546-37d8-48f7-86ee-53f9d1c923b8');\n",
              "          const dataTable =\n",
              "            await google.colab.kernel.invokeFunction('convertToInteractive',\n",
              "                                                     [key], {});\n",
              "          if (!dataTable) return;\n",
              "\n",
              "          const docLinkHtml = 'Like what you see? Visit the ' +\n",
              "            '<a target=\"_blank\" href=https://colab.research.google.com/notebooks/data_table.ipynb>data table notebook</a>'\n",
              "            + ' to learn more about interactive tables.';\n",
              "          element.innerHTML = '';\n",
              "          dataTable['output_type'] = 'display_data';\n",
              "          await google.colab.output.renderOutput(dataTable, element);\n",
              "          const docLink = document.createElement('div');\n",
              "          docLink.innerHTML = docLinkHtml;\n",
              "          element.appendChild(docLink);\n",
              "        }\n",
              "      </script>\n",
              "    </div>\n",
              "  </div>\n",
              "  "
            ]
          },
          "metadata": {},
          "execution_count": 3
        }
      ]
    },
    {
      "cell_type": "code",
      "source": [
        "data_copy = data.copy()"
      ],
      "metadata": {
        "id": "4VmG5xDGqqwC"
      },
      "execution_count": 4,
      "outputs": []
    },
    {
      "cell_type": "code",
      "source": [
        "data_copy['type'].replace([0, 1,2,3, 4],[\"Pomatomus saltatrix\", \"Osmerus mordax\",\"Clupea harengus\",\"Micropterus\", \"Gadus morhua\"], inplace=True)"
      ],
      "metadata": {
        "id": "6Zx5Pt9nq3l5"
      },
      "execution_count": 5,
      "outputs": []
    },
    {
      "cell_type": "code",
      "source": [
        "import matplotlib.pyplot as plt\n",
        "data_copy['type'].value_counts().sort_index().plot.bar()\n",
        "plt.title(\"Fish species\")\n",
        "plt.show()\n",
        "print(data_copy.shape)"
      ],
      "metadata": {
        "colab": {
          "base_uri": "https://localhost:8080/",
          "height": 600
        },
        "id": "4Pi5R6HGpSIw",
        "outputId": "b76189af-55cb-48e9-c3b5-f9b850baad80"
      },
      "execution_count": 6,
      "outputs": [
        {
          "output_type": "display_data",
          "data": {
            "text/plain": [
              "<Figure size 640x480 with 1 Axes>"
            ],
            "image/png": "[encoded data removed]"
          },
          "metadata": {}
        },
        {
          "output_type": "stream",
          "name": "stdout",
          "text": [
            "(194, 2)\n"
          ]
        }
      ]
    },
    {
      "cell_type": "code",
      "execution_count": 7,
      "metadata": {
        "id": "vEW4lT8iB0OO"
      },
      "outputs": [],
      "source": [
        "data_copy['length'] = data_copy.sequence.apply(lambda x : len(x))"
      ]
    },
    {
      "cell_type": "code",
      "source": [
        "data_copy['length']"
      ],
      "metadata": {
        "colab": {
          "base_uri": "https://localhost:8080/"
        },
        "id": "10Z0Y3rsA6ak",
        "outputId": "f2faa7c0-60d8-46a0-e53b-8550c837dced"
      },
      "execution_count": 12,
      "outputs": [
        {
          "output_type": "execute_result",
          "data": {
            "text/plain": [
              "291"
            ]
          },
          "metadata": {},
          "execution_count": 12
        }
      ]
    },
    {
      "cell_type": "code",
      "source": [
        "plt.figure(figsize=(8,8));\n",
        "plt.hist(data_copy[\"length\"],bins=50)\n",
        "plt.title(\"Distribution of Length of eDNA Sequences\");"
      ],
      "metadata": {
        "colab": {
          "base_uri": "https://localhost:8080/",
          "height": 699
        },
        "id": "wIOnSTitsOpQ",
        "outputId": "de1c3ede-adc2-44d8-9159-c62a07bcaef8"
      },
      "execution_count": null,
      "outputs": [
        {
          "output_type": "display_data",
          "data": {
            "text/plain": [
              "<Figure size 800x800 with 1 Axes>"
            ],
            "image/png": "[encoded data removed]"
          },
          "metadata": {}
        }
      ]
    },
    {
      "cell_type": "code",
      "execution_count": null,
      "metadata": {
        "id": "C7FELZSdAxX2"
      },
      "outputs": [],
      "source": [
        "from sklearn.feature_extraction.text import CountVectorizer\n",
        "cv = CountVectorizer(ngram_range=(4,4))\n",
        "\n",
        "def getKmers(sequence, size=6):\n",
        "    return [sequence[x:x+size].upper() for x in range(len(sequence) - size + 1)]\n",
        "\n",
        "\n",
        "data['words'] = data.apply(lambda x: getKmers(x['sequence']), axis=1)\n",
        "data[\"in_string\"] = data[\"words\"].apply(lambda x:  ' '.join(x))\n",
        "X = cv.fit_transform(data[\"in_string\"])\n",
        "Y = data['type']"
      ]
    },
    {
      "cell_type": "code",
      "source": [
        "data[\"in_string\"]"
      ],
      "metadata": {
        "colab": {
          "base_uri": "https://localhost:8080/"
        },
        "id": "5Ej4Z_Y8037P",
        "outputId": "d4fe4c9a-896f-4315-ffb7-50cdfaa64900"
      },
      "execution_count": null,
      "outputs": [
        {
          "output_type": "execute_result",
          "data": {
            "text/plain": [
              "0      CCTTTA CTTTAG TTTAGC TTAGCT TAGCTG AGCTGG GCTG...\n",
              "1      CCTTTA CTTTAG TTTAGC TTAGCT TAGCTG AGCTGG GCTG...\n",
              "2      CCTTTA CTTTAG TTTAGC TTAGCT TAGCTG AGCTGG GCTG...\n",
              "3      CCTTAG CTTAGC TTAGCT TAGCTG AGCTGG GCTGGA CTGG...\n",
              "4      CCTTTA CTTTAG TTTAGC TTAGCT TAGCTG AGCTGG GCTG...\n",
              "                             ...                        \n",
              "189    TTTAGC TTAGCC TAGCCG AGCCGG GCCGGA CCGGAA CGGA...\n",
              "190    CCTTTA CTTTAG TTTAGC TTAGCC TAGCCG AGCCGG GCCG...\n",
              "191    TTTAGC TTAGCC TAGCCG AGCCGG GCCGGA CCGGAA CGGA...\n",
              "192    TTTAGC TTAGCC TAGCCG AGCCGG GCCGGA CCGGAA CGGA...\n",
              "193    TTTAGC TTAGCC TAGCCG AGCCGG GCCGGA CCGGAA CGGA...\n",
              "Name: in_string, Length: 194, dtype: object"
            ]
          },
          "metadata": {},
          "execution_count": 15
        }
      ]
    },
    {
      "cell_type": "code",
      "source": [
        "X.shape"
      ],
      "metadata": {
        "colab": {
          "base_uri": "https://localhost:8080/"
        },
        "id": "yELYq_uN3E03",
        "outputId": "10234108-ec0b-473a-957f-5d581e0e9d8c"
      },
      "execution_count": null,
      "outputs": [
        {
          "output_type": "execute_result",
          "data": {
            "text/plain": [
              "(194, 2915)"
            ]
          },
          "metadata": {},
          "execution_count": 20
        }
      ]
    },
    {
      "cell_type": "code",
      "source": [
        "data[\"in_string\"][0]"
      ],
      "metadata": {
        "colab": {
          "base_uri": "https://localhost:8080/",
          "height": 250
        },
        "id": "R_0FWMnB3OwS",
        "outputId": "f76593de-f0a9-43ef-c7fb-0f37889b2662"
      },
      "execution_count": null,
      "outputs": [
        {
          "output_type": "execute_result",
          "data": {
            "text/plain": [
              "'CCTTTA CTTTAG TTTAGC TTAGCT TAGCTG AGCTGG GCTGGA CTGGAA TGGAAA GGAAAC GAAACC AAACCT AACCTA ACCTAG CCTAGC CTAGCC TAGCCC AGCCCA GCCCAT CCCATG CCATGC CATGCT ATGCTG TGCTGG GCTGGA CTGGAG TGGAGC GGAGCA GAGCAT AGCATC GCATCC CATCCG ATCCGT TCCGTC CCGTCG CGTCGA GTCGAC TCGACT CGACTT GACTTA ACTTAA CTTAAC TTAACT TAACTA AACTAT ACTATT CTATTT TATTTT ATTTTT TTTTTT TTTTTC TTTTCT TTTCTC TTCTCT TCTCTT CTCTTC TCTTCA CTTCAC TTCACC TCACCT CACCTA ACCTAG CCTAGC CTAGCA TAGCAG AGCAGG GCAGGA CAGGAA AGGAAT GGAATC GAATCT AATCTC ATCTCC TCTCCT CTCCTC TCCTCA CCTCAA CTCAAT TCAATC CAATCC AATCCT ATCCTT TCCTTG CCTTGG CTTGGA TTGGAG TGGAGC GGAGCA GAGCAA AGCAAT GCAATC CAATCA AATCAA ATCAAC TCAACT CAACTT AACTTC ACTTCA CTTCAT TTCATT TCATTA CATTAC ATTACT TTACTA TACTAC ACTACT CTACTA TACTAT ACTATT CTATTA TATTAT ATTATT TTATTA TATTAA ATTAAC TTAACA TAACAT AACATG ACATGA CATGAA ATGAAA TGAAAC GAAACC AAACCT AACCTG ACCTGC CCTGCG CTGCGG TGCGGC GCGGCT CGGCTA GGCTAT GCTATT CTATTT TATTTC ATTTCC TTTCCC TTCCCA TCCCAG CCCAGT CCAGTA CAGTAT AGTATC GTATCA TATCAA ATCAAA TCAAAC CAAACA AAACAC AACACC ACACCC CACCCC ACCCCT CCCCTA CCCTAT CCTATT CTATTT TATTTG ATTTGT TTTGTG TTGTGT TGTGTG GTGTGA TGTGAG GTGAGC TGAGCC GAGCCG AGCCGT GCCGTC CCGTCC CGTCCT GTCCTA TCCTAA CCTAAT CTAATT TAATTA AATTAC ATTACA TTACAG TACAGC ACAGCT CAGCTG AGCTGT GCTGTC CTGTCC TGTCCT GTCCTT TCCTTC CCTTCT CTTCTC TTCTCC TCTCCT CTCCTA TCCTAC CCTACT CTACTA TACTAT ACTATC CTATCT TATCTC ATCTCT TCTCTT CTCTTC TCTTCC CTTCCA TTCCAG TCCAGT CCAGTC CAGTCC AGTCCT GTCCTT TCCTTG CCTTGC CTTGCT TTGCTG TGCTGC GCTGCT CTGCTG TGCTGG GCTGGA CTGGAA TGGAAT GGAATT GAATTA AATTAC ATTACA TTACAA TACAAT ACAATG CAATGC AATGCT ATGCTC TGCTCC GCTCCT CTCCTG TCCTGA CCTGAC CTGACA TGACAG GACAGA ACAGAC CAGACC AGACCG GACCGA ACCGAA CCGAAA CGAAAC GAAACC AAACCT AACCTA ACCTAA CCTAAA CTAAAC TAAACA AAACAC AACACA ACACAA CACAAC ACAACC CAACCT AACCTT ACCTTC CCTTCT CTTCTT TTCTTT TCTTTG CTTTGA TTTGAC TTGACC TGACCC GACCCT ACCCTG CCCTGC CCTGCA CTGCAG TGCAGG GCAGGT CAGGTG AGGTGG GGTGGA GTGGAG TGGAGG GGAGGA GAGGAG AGGAGA GGAGAC'"
            ],
            "application/vnd.google.colaboratory.intrinsic+json": {
              "type": "string"
            }
          },
          "metadata": {},
          "execution_count": 21
        }
      ]
    },
    {
      "cell_type": "code",
      "source": [
        "X[0].toarray()"
      ],
      "metadata": {
        "colab": {
          "base_uri": "https://localhost:8080/"
        },
        "id": "r0CTSj3j21y6",
        "outputId": "4750d48a-071f-4ab3-a030-cd16ec09a21c"
      },
      "execution_count": null,
      "outputs": [
        {
          "output_type": "execute_result",
          "data": {
            "text/plain": [
              "array([[0, 1, 0, ..., 0, 0, 0]])"
            ]
          },
          "metadata": {},
          "execution_count": 24
        }
      ]
    },
    {
      "cell_type": "code",
      "source": [
        "import pandas as pd\n",
        "import numpy as np\n",
        "import matplotlib.pyplot as plt\n",
        "import seaborn as sns\n",
        "from IPython.display import Image\n",
        "from sklearn.manifold import TSNE\n",
        "\n",
        "\n",
        "color = Y\n",
        "#color = [np.argmax(i) for i in color] # take one-hot Convert encoding to integer \n",
        "#color = np.stack(color, axis=0)\n",
        "group = color\n",
        "#cdict = {0:'black', 1: 'red', 2: 'blue', 3: 'green',}\n",
        "\n",
        "n_neighbors = 12   # How many categories are there \n",
        "\n",
        "##### 2D feature plot\n",
        "y = TSNE(n_components=2, learning_rate='auto',init='pca').fit_transform(X.toarray())\n",
        "scatter_x = y[:, 0]\n",
        "scatter_y = y[:, 1]\n",
        "\n",
        "#cdict = {0:'black', 1: 'red', 2: 'blue', 3: 'green', 4:'brown', 5:'gray', 6:'yellow', 7:'orange', 8:'purple', 9:'cyan', 10:'pink', 11:'olive',}\n",
        "fig = plt.figure(figsize=(12, 12))\n",
        "for g in np.unique(group):\n",
        "    ix = np.where(group == g)\n",
        "    plt.scatter(scatter_x[ix], scatter_y[ix] ,label = g, s = 15)\n",
        "plt.legend()\n",
        "plt.axis('off')"
      ],
      "metadata": {
        "colab": {
          "base_uri": "https://localhost:8080/",
          "height": 1000
        },
        "id": "9TANbDPL4Uj2",
        "outputId": "a27942a5-cb14-4cb6-9448-dab2611a431f"
      },
      "execution_count": null,
      "outputs": [
        {
          "output_type": "execute_result",
          "data": {
            "text/plain": [
              "(-21.748735332489012,\n",
              " 16.611698055267333,\n",
              " -14.326983308792114,\n",
              " 20.97826180458069)"
            ]
          },
          "metadata": {},
          "execution_count": 14
        },
        {
          "output_type": "display_data",
          "data": {
            "text/plain": [
              "<Figure size 1200x1200 with 1 Axes>"
            ],
            "image/png": "[encoded data removed]"
          },
          "metadata": {}
        }
      ]
    },
    {
      "cell_type": "code",
      "source": [
        "Y"
      ],
      "metadata": {
        "colab": {
          "base_uri": "https://localhost:8080/"
        },
        "id": "0ilfiSaZ9JoM",
        "outputId": "de258a93-f571-4838-9100-8b1e447e5553"
      },
      "execution_count": null,
      "outputs": [
        {
          "output_type": "execute_result",
          "data": {
            "text/plain": [
              "0      0\n",
              "1      0\n",
              "2      0\n",
              "3      0\n",
              "4      0\n",
              "      ..\n",
              "99     5\n",
              "100    5\n",
              "101    5\n",
              "102    5\n",
              "103    5\n",
              "Name: type, Length: 104, dtype: int64"
            ]
          },
          "metadata": {},
          "execution_count": 14
        }
      ]
    },
    {
      "cell_type": "code",
      "execution_count": null,
      "metadata": {
        "id": "jGHLa6rk8_Iz"
      },
      "outputs": [],
      "source": [
        "from sklearn.model_selection import cross_val_score\n",
        "from sklearn.model_selection import StratifiedKFold\n",
        "\n",
        "from sklearn.metrics import classification_report\n",
        "from sklearn.metrics import confusion_matrix\n",
        "from sklearn.metrics import accuracy_score\n",
        "\n",
        "from sklearn.tree import DecisionTreeClassifier\n",
        "from sklearn.neighbors import KNeighborsClassifier\n",
        "from sklearn.ensemble import RandomForestClassifier\n",
        "from sklearn.naive_bayes import MultinomialNB\n",
        "from sklearn import svm\n",
        "\n",
        "from xgboost import XGBClassifier\n",
        "from lightgbm import LGBMClassifier"
      ]
    },
    {
      "cell_type": "code",
      "execution_count": null,
      "metadata": {
        "colab": {
          "base_uri": "https://localhost:8080/"
        },
        "id": "SIZdgSzK7S-3",
        "outputId": "af8b1ccb-3e4e-4706-d208-e58e364947d6"
      },
      "outputs": [
        {
          "output_type": "stream",
          "name": "stdout",
          "text": [
            "Model_name:  MultinomialNB\n",
            "              precision    recall  f1-score   support\n",
            "\n",
            "           0       1.00      1.00      1.00         7\n",
            "           1       1.00      1.00      1.00         6\n",
            "           2       1.00      1.00      1.00         5\n",
            "           3       1.00      1.00      1.00        12\n",
            "           4       1.00      1.00      1.00         9\n",
            "\n",
            "    accuracy                           1.00        39\n",
            "   macro avg       1.00      1.00      1.00        39\n",
            "weighted avg       1.00      1.00      1.00        39\n",
            "\n",
            "[[ 7  0  0  0  0]\n",
            " [ 0  6  0  0  0]\n",
            " [ 0  0  5  0  0]\n",
            " [ 0  0  0 12  0]\n",
            " [ 0  0  0  0  9]]\n",
            "[1.0, 1.0, 1.0, 1.0, 1.0]\n",
            "\n",
            "\n",
            "-----------------------------------------------\n"
          ]
        }
      ],
      "source": [
        "from sklearn.feature_extraction.text import CountVectorizer\n",
        "from sklearn.model_selection import cross_val_score\n",
        "from sklearn.model_selection import train_test_split\n",
        "from sklearn.naive_bayes import MultinomialNB\n",
        "from sklearn.model_selection import RandomizedSearchCV, GridSearchCV\n",
        "from sklearn.model_selection import ShuffleSplit\n",
        "from sklearn.model_selection import cross_val_score\n",
        "from sklearn.model_selection import KFold\n",
        "from sklearn.metrics import confusion_matrix\n",
        "from sklearn.metrics import classification_report\n",
        "from sklearn.metrics import f1_score\n",
        "from sklearn.experimental import enable_halving_search_cv  # noqa\n",
        "from sklearn.model_selection import HalvingRandomSearchCV\n",
        "from scipy.stats import randint\n",
        "import warnings\n",
        "\n",
        "kf = KFold(n_splits=5, random_state=42, shuffle=True)\n",
        "max_acc = 0\n",
        "all_accs = []\n",
        "#MultinomialNB\n",
        "#print(\"dataset_name: \",i[1])\n",
        "print(\"Model_name: \",\"MultinomialNB\")\n",
        "for i, (train_index, test_index) in enumerate(kf.split(X)):\n",
        "  X_train, X_test = X[train_index], X[test_index]\n",
        "  y_train, y_test = Y[train_index], Y[test_index]\n",
        "  \n",
        "  mnparams = {\"alpha\":[0.1,0.2,0.3,0.4]}\n",
        "  #random_search = HalvingRandomSearchCV(MultinomialNB(), mnparams ,random_state=42)\n",
        "  random_search = RandomizedSearchCV(estimator = MultinomialNB(), param_distributions= mnparams,\n",
        "                                    n_iter =10, cv=9, n_jobs=1,scoring = 'f1_micro')\n",
        "  random_search.fit(X_train, y_train)\n",
        "  classifier = MultinomialNB(alpha = random_search.best_params_[\"alpha\"])\n",
        "  classifier.fit(X_train,y_train)\n",
        "  acc = f1_score(y_test, classifier.predict(X_test) , average='macro')\n",
        "  all_accs.append(acc)\n",
        "  \n",
        "  if acc>max_acc:\n",
        "    max_acc = acc\n",
        "    y_pred = classifier.predict(X_test)\n",
        "    \n",
        "    cls_report = classification_report(y_test, y_pred)\n",
        "    conf_matrix = confusion_matrix(y_test, y_pred)\n",
        "print(cls_report)\n",
        "print(conf_matrix)\n",
        "print(all_accs)\n",
        "print(\"\\n\")\n",
        "print(\"-----------------------------------------------\")"
      ]
    },
    {
      "cell_type": "code",
      "execution_count": null,
      "metadata": {
        "colab": {
          "base_uri": "https://localhost:8080/"
        },
        "id": "HJ_HnmVk8yms",
        "outputId": "2044dd96-7816-4f0a-8bf6-74bafe58605e"
      },
      "outputs": [
        {
          "output_type": "stream",
          "name": "stdout",
          "text": [
            "Model_name:  SVM\n",
            "Fold 0:\n",
            "Fold 1:\n",
            "Fold 2:\n",
            "Fold 3:\n",
            "Fold 4:\n",
            "              precision    recall  f1-score   support\n",
            "\n",
            "           0       1.00      1.00      1.00         7\n",
            "           1       1.00      1.00      1.00         6\n",
            "           2       1.00      1.00      1.00         5\n",
            "           3       1.00      1.00      1.00        12\n",
            "           4       1.00      1.00      1.00         9\n",
            "\n",
            "    accuracy                           1.00        39\n",
            "   macro avg       1.00      1.00      1.00        39\n",
            "weighted avg       1.00      1.00      1.00        39\n",
            "\n",
            "[[ 7  0  0  0  0]\n",
            " [ 0  6  0  0  0]\n",
            " [ 0  0  5  0  0]\n",
            " [ 0  0  0 12  0]\n",
            " [ 0  0  0  0  9]]\n",
            "[1.0, 1.0, 1.0, 1.0, 1.0]\n",
            "\n",
            "\n",
            "-----------------------------------------------\n"
          ]
        }
      ],
      "source": [
        "from sklearn.feature_extraction.text import CountVectorizer\n",
        "from sklearn.model_selection import cross_val_score\n",
        "from sklearn.model_selection import train_test_split\n",
        "from sklearn.naive_bayes import MultinomialNB\n",
        "from sklearn.model_selection import RandomizedSearchCV, GridSearchCV\n",
        "from sklearn.model_selection import ShuffleSplit\n",
        "from sklearn.model_selection import cross_val_score\n",
        "from sklearn.model_selection import KFold\n",
        "from sklearn.metrics import confusion_matrix\n",
        "from sklearn.metrics import classification_report\n",
        "from sklearn.metrics import f1_score\n",
        "import warnings\n",
        "\n",
        "\n",
        "\n",
        "kf = KFold(n_splits=5, random_state=42, shuffle=True)\n",
        "max_acc = 0\n",
        "all_accs = []\n",
        "svcparams = {'C': [0.1,1,2],'kernel': ['rbf', 'poly', 'sigmoid']} #find best parameters \n",
        "#svcparams = {'C': [0.1,1,2], 'gamma': [1,0.1,0.01,0.001],'kernel': ['rbf', 'poly', 'sigmoid']} #find best parameters \n",
        "random_search = RandomizedSearchCV(estimator = svm.SVC(), param_distributions= svcparams,\n",
        "                                n_iter =10, cv=9, n_jobs=-1,scoring = 'accuracy')\n",
        "random_search.fit(X, Y)\n",
        "#SVM\n",
        "#print(\"dataset_name: \",i[1])\n",
        "print(\"Model_name: \",\"SVM\")\n",
        "for i, (train_index, test_index) in enumerate(kf.split(X)):\n",
        "  X_train, X_test = X[train_index], X[test_index]\n",
        "  y_train, y_test = Y[train_index], Y[test_index]\n",
        "\n",
        "  classifier = svm.SVC(kernel= random_search.best_params_[\"kernel\"], \n",
        "                        C = random_search.best_params_[\"C\"], \n",
        "                        random_state = 42)\n",
        "  classifier.fit(X_train,y_train)\n",
        "  acc = f1_score(y_test, classifier.predict(X_test) , average='macro')\n",
        "  all_accs.append(acc)\n",
        "  print(f\"Fold {i}:\")\n",
        "  if acc>max_acc:\n",
        "    max_acc = acc\n",
        "    y_pred = classifier.predict(X_test)\n",
        "    #target_names = y_pred[:-1].unique().tolist()\n",
        "    cls_report = classification_report(y_test, y_pred)\n",
        "    conf_matrix = confusion_matrix(y_test, y_pred)\n",
        "print(cls_report)\n",
        "print(conf_matrix)\n",
        "print(all_accs)\n",
        "print(\"\\n\")\n",
        "print(\"-----------------------------------------------\")"
      ]
    },
    {
      "cell_type": "code",
      "execution_count": null,
      "metadata": {
        "colab": {
          "base_uri": "https://localhost:8080/"
        },
        "id": "rrIETdUinMdP",
        "outputId": "3953dd97-392e-447d-afad-1fd81480f0aa"
      },
      "outputs": [
        {
          "output_type": "stream",
          "name": "stdout",
          "text": [
            "Model_name:  DecisionTreeClassifier\n",
            "Fold 0:\n",
            "[0 0 0 0 0 0 0 1 1 1 1 1 1 2 2 2 2 2 3 3 3 3 3 3 3 3 3 3 3 3 4 4 4 4 4 4 4\n",
            " 4 4]\n",
            "Fold 1:\n",
            "Fold 2:\n",
            "Fold 3:\n",
            "Fold 4:\n",
            "              precision    recall  f1-score   support\n",
            "\n",
            "           0       1.00      1.00      1.00         7\n",
            "           1       1.00      1.00      1.00         6\n",
            "           2       1.00      1.00      1.00         5\n",
            "           3       1.00      1.00      1.00        12\n",
            "           4       1.00      1.00      1.00         9\n",
            "\n",
            "    accuracy                           1.00        39\n",
            "   macro avg       1.00      1.00      1.00        39\n",
            "weighted avg       1.00      1.00      1.00        39\n",
            "\n",
            "[[ 7  0  0  0  0]\n",
            " [ 0  6  0  0  0]\n",
            " [ 0  0  5  0  0]\n",
            " [ 0  0  0 12  0]\n",
            " [ 0  0  0  0  9]]\n",
            "[1.0, 1.0, 0.9703703703703704, 0.9332467532467532, 0.9076923076923077]\n",
            "\n",
            "\n",
            "-----------------------------------------------\n"
          ]
        }
      ],
      "source": [
        "from sklearn.feature_extraction.text import CountVectorizer\n",
        "from sklearn.model_selection import cross_val_score\n",
        "from sklearn.model_selection import train_test_split\n",
        "from sklearn.naive_bayes import MultinomialNB\n",
        "from sklearn.model_selection import RandomizedSearchCV, GridSearchCV\n",
        "from sklearn.model_selection import ShuffleSplit\n",
        "from sklearn.model_selection import cross_val_score\n",
        "from sklearn.model_selection import KFold\n",
        "from sklearn.metrics import confusion_matrix\n",
        "from sklearn.metrics import classification_report\n",
        "from sklearn.metrics import f1_score\n",
        "import warnings\n",
        "\n",
        "warnings.filterwarnings('ignore') \n",
        "\n",
        "kf = KFold(n_splits=5, random_state=42, shuffle=True)\n",
        "max_acc = 0\n",
        "all_accs = []\n",
        "#print(\"dataset_name: \",i[1])\n",
        "#DecisionTreeClassifier\n",
        "print(\"Model_name: \",\"DecisionTreeClassifier\")\n",
        "for i, (train_index, test_index) in enumerate(kf.split(X)):\n",
        "  X_train, X_test = X[train_index], X[test_index]\n",
        "  y_train, y_test = Y[train_index], Y[test_index]\n",
        "\n",
        "  DSparams={\n",
        "\"max_depth\" : [2,4,6,8,10,12,14],\n",
        "\"criterion\" : ['gini','entropy'],\n",
        "\"min_samples_split\" : range(2,10),\n",
        "\"min_samples_leaf\" : range(2,10),\n",
        "  }\n",
        "  random_search = RandomizedSearchCV(estimator = DecisionTreeClassifier(), param_distributions=DSparams,\n",
        "                                  n_iter =10, cv=9, n_jobs=1,scoring = 'f1_micro')\n",
        "  random_search.fit(X_train, y_train)\n",
        "  classifier = DecisionTreeClassifier(min_samples_split= random_search.best_params_[\"min_samples_split\"]\n",
        "                                      ,min_samples_leaf = random_search.best_params_[\"min_samples_leaf\"],\n",
        "                                      max_depth =  random_search.best_params_[\"max_depth\"], \n",
        "                                      criterion = random_search.best_params_[\"criterion\"])\n",
        "  classifier.fit(X_train,y_train)\n",
        "  acc = f1_score(y_test, classifier.predict(X_test) , average='macro')\n",
        "  all_accs.append(acc)\n",
        "  print(f\"Fold {i}:\")\n",
        "  if acc>max_acc:\n",
        "    max_acc = acc\n",
        "    y_pred = classifier.predict(X_test)\n",
        "    print(y_pred)\n",
        "    #target_names = y_pred[:-1].unique().tolist()\n",
        "    cls_report = classification_report(y_test, y_pred)\n",
        "    conf_matrix = confusion_matrix(y_test, y_pred)\n",
        "print(cls_report)\n",
        "print(conf_matrix)\n",
        "print(all_accs)\n",
        "print(\"\\n\")\n",
        "print(\"-----------------------------------------------\")"
      ]
    },
    {
      "cell_type": "code",
      "execution_count": null,
      "metadata": {
        "colab": {
          "base_uri": "https://localhost:8080/"
        },
        "id": "RODhSryvoN02",
        "outputId": "7195fae6-16e0-481e-e624-37e5c22c27f3"
      },
      "outputs": [
        {
          "output_type": "stream",
          "name": "stdout",
          "text": [
            "Fold 0:\n",
            "[0 0 0 0 0 0 0 1 1 1 1 1 1 2 2 2 2 2 3 3 3 3 3 3 3 3 3 3 3 3 4 4 4 4 4 4 4\n",
            " 4 4]\n",
            "Fold 1:\n",
            "Fold 2:\n",
            "Fold 3:\n",
            "Fold 4:\n",
            "              precision    recall  f1-score   support\n",
            "\n",
            "           0       1.00      1.00      1.00         7\n",
            "           1       1.00      1.00      1.00         6\n",
            "           2       1.00      1.00      1.00         5\n",
            "           3       1.00      1.00      1.00        12\n",
            "           4       1.00      1.00      1.00         9\n",
            "\n",
            "    accuracy                           1.00        39\n",
            "   macro avg       1.00      1.00      1.00        39\n",
            "weighted avg       1.00      1.00      1.00        39\n",
            "\n",
            "[[ 7  0  0  0  0]\n",
            " [ 0  6  0  0  0]\n",
            " [ 0  0  5  0  0]\n",
            " [ 0  0  0 12  0]\n",
            " [ 0  0  0  0  9]]\n",
            "[1.0, 1.0, 1.0, 1.0, 1.0]\n",
            "\n",
            "\n",
            "-----------------------------------------------\n"
          ]
        }
      ],
      "source": [
        "from sklearn.feature_extraction.text import CountVectorizer\n",
        "from sklearn.model_selection import cross_val_score\n",
        "from sklearn.model_selection import train_test_split\n",
        "from sklearn.naive_bayes import MultinomialNB\n",
        "from sklearn.model_selection import RandomizedSearchCV, GridSearchCV\n",
        "from sklearn.model_selection import ShuffleSplit\n",
        "from sklearn.model_selection import cross_val_score\n",
        "from sklearn.model_selection import KFold\n",
        "from sklearn.metrics import confusion_matrix\n",
        "from sklearn.metrics import classification_report\n",
        "from sklearn.metrics import f1_score\n",
        "import warnings\n",
        "\n",
        "warnings.filterwarnings('ignore')  \n",
        "\n",
        "rfparams={\n",
        "  'n_estimators': [200, 500],\n",
        "  'max_features': ['auto', 'sqrt', 'log2'],\n",
        "  'max_depth' : [4,5,6,7,8],\n",
        "  'criterion' :['gini', 'entropy']\n",
        "  }\n",
        "rfc=RandomForestClassifier(random_state=42)\n",
        "random_search = RandomizedSearchCV(estimator = rfc, param_distributions=rfparams,\n",
        "                                  n_iter =10, cv=9, n_jobs=-1)\n",
        "random_search.fit(X, Y)\n",
        "kf = KFold(n_splits=5, random_state=42, shuffle=True)\n",
        "max_acc = 0\n",
        "all_accs = []\n",
        "#print(\"dataset_name: \",i[1])\n",
        "#RandomForestClassifier\n",
        "max_acc = 0\n",
        "for i, (train_index, test_index) in enumerate(kf.split(X)):\n",
        "  X_train, X_test = X[train_index], X[test_index]\n",
        "  y_train, y_test = Y[train_index], Y[test_index]\n",
        "\n",
        "  \n",
        "  classifier = RandomForestClassifier(random_state = 42,\n",
        "                                      n_estimators= random_search.best_params_[\"n_estimators\"],\n",
        "                                      max_features= random_search.best_params_[\"max_features\"],\n",
        "                                      max_depth= random_search.best_params_[\"max_depth\"],\n",
        "                                      criterion= random_search.best_params_[\"criterion\"])\n",
        "  classifier.fit(X_train,y_train)\n",
        "  acc = f1_score(y_test, classifier.predict(X_test) , average='macro')\n",
        "  all_accs.append(acc)\n",
        "  print(f\"Fold {i}:\")\n",
        "  if acc>max_acc:\n",
        "    max_acc = acc\n",
        "    y_pred = classifier.predict(X_test)\n",
        "    print(y_pred)\n",
        "    #target_names = y_pred[:-1].unique().tolist()\n",
        "    cls_report = classification_report(y_test, y_pred)\n",
        "    conf_matrix = confusion_matrix(y_test, y_pred)\n",
        "print(cls_report)\n",
        "print(conf_matrix)\n",
        "print(all_accs)\n",
        "print(\"\\n\")\n",
        "print(\"-----------------------------------------------\")"
      ]
    }
  ],
  "metadata": {
    "colab": {
      "provenance": [],
      "authorship_tag": "ABX9TyPT1K24NpnEGnqqCh7bcemL",
      "include_colab_link": true
    },
    "kernelspec": {
      "display_name": "Python 3",
      "name": "python3"
    },
    "language_info": {
      "name": "python"
    }
  },
  "nbformat": 4,
  "nbformat_minor": 0
}